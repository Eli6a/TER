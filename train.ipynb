{
 "cells": [
  {
   "cell_type": "code",
   "execution_count": 41,
   "metadata": {},
   "outputs": [],
   "source": [
    "from ersatz.subword import SentencePiece\n",
    "from ersatz.dataset import split_train_file\n",
    "from ersatz.candidates import PunctuationSpace, MultilingualPunctuation\n",
    "import torch\n",
    "import glob"
   ]
  },
  {
   "cell_type": "code",
   "execution_count": 42,
   "metadata": {},
   "outputs": [],
   "source": [
    "checkpoint_path = \"../../.ersatz/monolingual/en/01.Jun.21.en\""
   ]
  },
  {
   "cell_type": "code",
   "execution_count": 43,
   "metadata": {},
   "outputs": [],
   "source": [
    "model_dict = torch.load(checkpoint_path, map_location=torch.device('cpu'))\n",
    "tokenizer = SentencePiece(serialization=model_dict['tokenizer'])\n",
    "determiner = MultilingualPunctuation()"
   ]
  },
  {
   "cell_type": "code",
   "execution_count": 44,
   "metadata": {},
   "outputs": [
    {
     "name": "stdout",
     "output_type": "stream",
     "text": [
      "['./documents/lines/dev/opinion-G16-(Missouri v. Frye, 10-444).html.txt', './documents/lines/dev/opinion-G16-(Mathews v. Diaz, 426 U.S. 67.html.txt', './documents/lines/dev/opinion-G16-(NLRB v. Wooster Div. of Borg-Warner C.txt']\n"
     ]
    }
   ],
   "source": [
    "inputs = glob.glob(\"./documents/lines/dev/*.txt\")\n",
    "print(inputs)"
   ]
  },
  {
   "cell_type": "code",
   "execution_count": 45,
   "metadata": {},
   "outputs": [],
   "source": [
    "\n",
    "split_train_file(inputs, tokenizer,\n",
    "                     output_path=\"./inputs/ersatz/outputdev\",\n",
    "                     left_context_size=5,\n",
    "                     right_context_size=5,\n",
    "                     determiner=determiner)"
   ]
  },
  {
   "cell_type": "code",
   "execution_count": 47,
   "metadata": {},
   "outputs": [],
   "source": [
    "import logging\n",
    "from ersatz.trainer import ErsatzTrainer"
   ]
  },
  {
   "cell_type": "code",
   "execution_count": 48,
   "metadata": {},
   "outputs": [
    {
     "name": "stderr",
     "output_type": "stream",
     "text": [
      "Starting trainer...\n"
     ]
    },
    {
     "ename": "NameError",
     "evalue": "name 'args' is not defined",
     "output_type": "error",
     "traceback": [
      "\u001b[0;31m---------------------------------------------------------------------------\u001b[0m",
      "\u001b[0;31mNameError\u001b[0m                                 Traceback (most recent call last)",
      "Cell \u001b[0;32mIn[48], line 3\u001b[0m\n\u001b[1;32m      1\u001b[0m torch\u001b[38;5;241m.\u001b[39mmanual_seed(\u001b[38;5;241m14\u001b[39m)\n\u001b[1;32m      2\u001b[0m logging\u001b[38;5;241m.\u001b[39minfo(\u001b[38;5;124m'\u001b[39m\u001b[38;5;124mStarting trainer...\u001b[39m\u001b[38;5;124m'\u001b[39m)\n\u001b[0;32m----> 3\u001b[0m trainer \u001b[38;5;241m=\u001b[39m ErsatzTrainer(\u001b[43margs\u001b[49m)\n",
      "\u001b[0;31mNameError\u001b[0m: name 'args' is not defined"
     ]
    }
   ],
   "source": [
    "torch.manual_seed(14)\n",
    "logging.info('Starting trainer...')\n",
    "trainer = ErsatzTrainer(args)"
   ]
  }
 ],
 "metadata": {
  "kernelspec": {
   "display_name": "Python 3",
   "language": "python",
   "name": "python3"
  },
  "language_info": {
   "codemirror_mode": {
    "name": "ipython",
    "version": 3
   },
   "file_extension": ".py",
   "mimetype": "text/x-python",
   "name": "python",
   "nbconvert_exporter": "python",
   "pygments_lexer": "ipython3",
   "version": "3.10.12"
  }
 },
 "nbformat": 4,
 "nbformat_minor": 2
}

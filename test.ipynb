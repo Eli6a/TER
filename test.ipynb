{
 "cells": [
  {
   "cell_type": "code",
   "execution_count": 9,
   "metadata": {},
   "outputs": [
    {
     "name": "stdout",
     "output_type": "stream",
     "text": [
      "The autoreload extension is already loaded. To reload it, use:\n",
      "  %reload_ext autoreload\n"
     ]
    }
   ],
   "source": [
    "#%cd source\n",
    "%load_ext autoreload\n",
    "%autoreload 2\n",
    "import eval, pipeline\n",
    "import pandas as pd\n",
    "import matplotlib.pyplot as plt\n",
    "import time"
   ]
  },
  {
   "cell_type": "code",
   "execution_count": 10,
   "metadata": {},
   "outputs": [],
   "source": [
    "res_eval = []"
   ]
  },
  {
   "cell_type": "code",
   "execution_count": 11,
   "metadata": {},
   "outputs": [
    {
     "name": "stderr",
     "output_type": "stream",
     "text": [
      "2024-02-21 14:39:56 | INFO | ersatz | Segmentation model: \"en\"\n",
      "2024-02-21 14:39:56 | INFO | ersatz | Model description: \"monolingual/en\"\n",
      "2024-02-21 14:39:56 | INFO | ersatz | Release Date: \"01 June 2021\"\n",
      "2024-02-21 14:39:56 | INFO | ersatz | USING \"en\" model found at /home/labicquette/.ersatz/monolingual/en/01.Jun.21.en\n"
     ]
    },
    {
     "name": "stderr",
     "output_type": "stream",
     "text": [
      "2024-02-21 14:39:56 | INFO | ersatz | Segmentation model: \"en\"\n",
      "2024-02-21 14:39:56 | INFO | ersatz | Model description: \"monolingual/en\"\n",
      "2024-02-21 14:39:56 | INFO | ersatz | Release Date: \"01 June 2021\"\n",
      "2024-02-21 14:39:56 | INFO | ersatz | USING \"en\" model found at /home/labicquette/.ersatz/monolingual/en/01.Jun.21.en\n",
      "2024-02-21 14:39:56 | INFO | ersatz | Segmentation model: \"en\"\n",
      "2024-02-21 14:39:56 | INFO | ersatz | Model description: \"monolingual/en\"\n",
      "2024-02-21 14:39:56 | INFO | ersatz | Release Date: \"01 June 2021\"\n",
      "2024-02-21 14:39:56 | INFO | ersatz | USING \"en\" model found at /home/labicquette/.ersatz/monolingual/en/01.Jun.21.en\n"
     ]
    },
    {
     "name": "stdout",
     "output_type": "stream",
     "text": [
      "0.839622641509434 0.717741935483871 0.773913043478261 ../documents/train/California v. Greenwood_retagged.txt\n"
     ]
    },
    {
     "name": "stderr",
     "output_type": "stream",
     "text": [
      "2024-02-21 14:39:57 | INFO | ersatz | Segmentation model: \"en\"\n",
      "2024-02-21 14:39:57 | INFO | ersatz | Model description: \"monolingual/en\"\n",
      "2024-02-21 14:39:57 | INFO | ersatz | Release Date: \"01 June 2021\"\n",
      "2024-02-21 14:39:57 | INFO | ersatz | USING \"en\" model found at /home/labicquette/.ersatz/monolingual/en/01.Jun.21.en\n",
      "2024-02-21 14:39:57 | INFO | ersatz | Segmentation model: \"en\"\n",
      "2024-02-21 14:39:57 | INFO | ersatz | Model description: \"monolingual/en\"\n",
      "2024-02-21 14:39:57 | INFO | ersatz | Release Date: \"01 June 2021\"\n",
      "2024-02-21 14:39:57 | INFO | ersatz | USING \"en\" model found at /home/labicquette/.ersatz/monolingual/en/01.Jun.21.en\n",
      "2024-02-21 14:39:57 | INFO | ersatz | Segmentation model: \"en\"\n",
      "2024-02-21 14:39:57 | INFO | ersatz | Model description: \"monolingual/en\"\n",
      "2024-02-21 14:39:57 | INFO | ersatz | Release Date: \"01 June 2021\"\n",
      "2024-02-21 14:39:57 | INFO | ersatz | USING \"en\" model found at /home/labicquette/.ersatz/monolingual/en/01.Jun.21.en\n"
     ]
    },
    {
     "name": "stdout",
     "output_type": "stream",
     "text": [
      "0.6235294117647059 0.8153846153846154 0.7066666666666667 ../documents/train/opinion-G16-(Jenkins v. Georgia, 418 U.S. 153).htm.txt\n"
     ]
    },
    {
     "name": "stderr",
     "output_type": "stream",
     "text": [
      "2024-02-21 14:39:57 | INFO | ersatz | Segmentation model: \"en\"\n",
      "2024-02-21 14:39:57 | INFO | ersatz | Model description: \"monolingual/en\"\n",
      "2024-02-21 14:39:57 | INFO | ersatz | Release Date: \"01 June 2021\"\n",
      "2024-02-21 14:39:57 | INFO | ersatz | USING \"en\" model found at /home/labicquette/.ersatz/monolingual/en/01.Jun.21.en\n"
     ]
    },
    {
     "name": "stdout",
     "output_type": "stream",
     "text": [
      "0.746268656716418 0.8130081300813008 0.7782101167315176 ../documents/train/opinion-G16-(California v. Superior Court of Cal.,.txt\n"
     ]
    },
    {
     "name": "stderr",
     "output_type": "stream",
     "text": [
      "2024-02-21 14:39:58 | INFO | ersatz | Segmentation model: \"en\"\n",
      "2024-02-21 14:39:58 | INFO | ersatz | Model description: \"monolingual/en\"\n",
      "2024-02-21 14:39:58 | INFO | ersatz | Release Date: \"01 June 2021\"\n",
      "2024-02-21 14:39:58 | INFO | ersatz | USING \"en\" model found at /home/labicquette/.ersatz/monolingual/en/01.Jun.21.en\n",
      "2024-02-21 14:39:58 | INFO | ersatz | Segmentation model: \"en\"\n",
      "2024-02-21 14:39:58 | INFO | ersatz | Model description: \"monolingual/en\"\n",
      "2024-02-21 14:39:58 | INFO | ersatz | Release Date: \"01 June 2021\"\n",
      "2024-02-21 14:39:58 | INFO | ersatz | USING \"en\" model found at /home/labicquette/.ersatz/monolingual/en/01.Jun.21.en\n",
      "2024-02-21 14:39:58 | INFO | ersatz | Segmentation model: \"en\"\n",
      "2024-02-21 14:39:58 | INFO | ersatz | Model description: \"monolingual/en\"\n",
      "2024-02-21 14:39:58 | INFO | ersatz | Release Date: \"01 June 2021\"\n",
      "2024-02-21 14:39:58 | INFO | ersatz | USING \"en\" model found at /home/labicquette/.ersatz/monolingual/en/01.Jun.21.en\n"
     ]
    },
    {
     "name": "stdout",
     "output_type": "stream",
     "text": [
      "0.6422764227642277 0.6220472440944882 0.632 ../documents/train/opinion-G16-(Florida Power _ Light Co. v. Electric.txt\n"
     ]
    },
    {
     "name": "stderr",
     "output_type": "stream",
     "text": [
      "2024-02-21 14:39:59 | INFO | ersatz | Segmentation model: \"en\"\n",
      "2024-02-21 14:39:59 | INFO | ersatz | Model description: \"monolingual/en\"\n",
      "2024-02-21 14:39:59 | INFO | ersatz | Release Date: \"01 June 2021\"\n",
      "2024-02-21 14:39:59 | INFO | ersatz | USING \"en\" model found at /home/labicquette/.ersatz/monolingual/en/01.Jun.21.en\n"
     ]
    },
    {
     "name": "stdout",
     "output_type": "stream",
     "text": [
      "0.7209302325581395 0.6966292134831461 0.7085714285714286 ../documents/train/opinion-G16-(Shapiro v. McManus, 136 S. Ct. 450).h.txt\n"
     ]
    },
    {
     "name": "stderr",
     "output_type": "stream",
     "text": [
      "2024-02-21 14:40:00 | INFO | ersatz | Segmentation model: \"en\"\n",
      "2024-02-21 14:40:00 | INFO | ersatz | Model description: \"monolingual/en\"\n",
      "2024-02-21 14:40:00 | INFO | ersatz | Release Date: \"01 June 2021\"\n",
      "2024-02-21 14:40:00 | INFO | ersatz | USING \"en\" model found at /home/labicquette/.ersatz/monolingual/en/01.Jun.21.en\n"
     ]
    },
    {
     "name": "stdout",
     "output_type": "stream",
     "text": [
      "0.689922480620155 0.717741935483871 0.7035573122529645 ../documents/train/California v. Greenwood_retagged.txt\n",
      "0.625 0.9090909090909091 0.7407407407407406 ../documents/train/opinion-G16-(Sanford v. Kepner, 344 U.S. 13).html.txt\n",
      "0.6022727272727273 0.8153846153846154 0.6928104575163399 ../documents/train/opinion-G16-(Jenkins v. Georgia, 418 U.S. 153).htm.txt\n",
      "0.6094674556213018 0.8373983739837398 0.7054794520547946 ../documents/train/opinion-G16-(California v. Superior Court of Cal.,.txt\n",
      "0.7228915662650602 0.8759124087591241 0.7920792079207922 ../documents/train/opinion-G16-(United States v. Mississippi Chemical.txt\n",
      "0.680327868852459 0.83 0.7477477477477475 ../documents/train/ROSENBLATT v. BAER_MCL.txt\n",
      "0.4148936170212766 0.6141732283464567 0.49523809523809514 ../documents/train/opinion-G16-(Florida Power _ Light Co. v. Electric.txt\n",
      "0.5614035087719298 0.7191011235955056 0.6305418719211823 ../documents/train/opinion-G16-(Shapiro v. McManus, 136 S. Ct. 450).h.txt\n",
      "0.6808510638297872 0.8366013071895425 0.7507331378299119 ../documents/train/Commissioner v. Groetzinger_MCL_retagged.txt\n",
      "0.7063492063492064 0.717741935483871 0.712 ../documents/train/California v. Greenwood_retagged.txt\n",
      "0.6265060240963856 0.8 0.7027027027027027 ../documents/train/opinion-G16-(Jenkins v. Georgia, 418 U.S. 153).htm.txt\n",
      "0.6776315789473685 0.8373983739837398 0.749090909090909 ../documents/train/opinion-G16-(California v. Superior Court of Cal.,.txt\n",
      "0.6538461538461539 0.8686131386861314 0.7460815047021944 ../documents/train/opinion-G16-(United States v. Mississippi Chemical.txt\n",
      "0.7477477477477478 0.83 0.7867298578199052 ../documents/train/ROSENBLATT v. BAER_MCL.txt\n",
      "0.5 0.6141732283464567 0.5512367491166078 ../documents/train/opinion-G16-(Florida Power _ Light Co. v. Electric.txt\n",
      "0.7079646017699115 0.898876404494382 0.7920792079207921 ../documents/train/opinion-G16-(Shapiro v. McManus, 136 S. Ct. 450).h.txt\n",
      "0.6928104575163399 0.8712328767123287 0.7718446601941747 ../documents/train/opinion-G16-(Taylor v. Sturgell, 553 U.S. 880).txt\n",
      "0.7386363636363636 0.8496732026143791 0.7902735562310031 ../documents/train/Commissioner v. Groetzinger_MCL_retagged.txt\n",
      "0.706766917293233 0.7401574803149606 0.7230769230769232 ../documents/train/opinion-G16-(Florida Power _ Light Co. v. Electric.txt\n",
      "[[4.199496030807495, 0.8126513829487201, 0.8076581007832401, 0.8084463530630748], [0.29006171226501465, 0.8196450353305563, 0.6681445710924948, 0.733752055194278], [2.4778659343719482, 0.8303807220377933, 0.7052403782477307, 0.761184586208782], [15.484470129013062, 0.896021379906102, 0.825887758054928, 0.8579357027998485], [0.4686727523803711, 0.2712172240483945, 0.1381274582150716, 0.18076726100517668]]\n"
     ]
    }
   ],
   "source": [
    "dir_path = \"../documents/train/*\"\n",
    "model=\"nltk\"\n",
    "tokenizer= \"nltk-punkt\"\n",
    "models = ['ersatz','nltk', 'spacy', \"custom_spacy\", 'naive']\n",
    "tokenizers = ['ersatz', 'nltk-punkt', 'spacy', 'spacy', 'nltk-word']\n",
    "for i in range(len(models)):\n",
    "    start = time.time()\n",
    "    r, p, f = pipeline.evaluation(dir_path, tokenizers[i], models[i])\n",
    "    res_eval += [[time.time()-start, r, p, f]]\n",
    "print(res_eval)\n"
   ]
  },
  {
   "cell_type": "code",
   "execution_count": 12,
   "metadata": {},
   "outputs": [
    {
     "data": {
      "text/html": [
       "<style type=\"text/css\">\n",
       "#T_d6633_row1_col0 {\n",
       "  background-color: red;\n",
       "  background-color: green;\n",
       "}\n",
       "#T_d6633_row3_col0 {\n",
       "  background-color: green;\n",
       "  background-color: red;\n",
       "}\n",
       "#T_d6633_row3_col1, #T_d6633_row3_col2, #T_d6633_row3_col3 {\n",
       "  background-color: green;\n",
       "}\n",
       "#T_d6633_row4_col1, #T_d6633_row4_col2, #T_d6633_row4_col3 {\n",
       "  background-color: red;\n",
       "}\n",
       "</style>\n",
       "<table id=\"T_d6633\">\n",
       "  <thead>\n",
       "    <tr>\n",
       "      <th class=\"blank level0\" >&nbsp;</th>\n",
       "      <th id=\"T_d6633_level0_col0\" class=\"col_heading level0 col0\" >execution_time</th>\n",
       "      <th id=\"T_d6633_level0_col1\" class=\"col_heading level0 col1\" >precision</th>\n",
       "      <th id=\"T_d6633_level0_col2\" class=\"col_heading level0 col2\" >recall</th>\n",
       "      <th id=\"T_d6633_level0_col3\" class=\"col_heading level0 col3\" >F1_score</th>\n",
       "    </tr>\n",
       "  </thead>\n",
       "  <tbody>\n",
       "    <tr>\n",
       "      <th id=\"T_d6633_level0_row0\" class=\"row_heading level0 row0\" >ersatz</th>\n",
       "      <td id=\"T_d6633_row0_col0\" class=\"data row0 col0\" >4.199496</td>\n",
       "      <td id=\"T_d6633_row0_col1\" class=\"data row0 col1\" >0.812651</td>\n",
       "      <td id=\"T_d6633_row0_col2\" class=\"data row0 col2\" >0.807658</td>\n",
       "      <td id=\"T_d6633_row0_col3\" class=\"data row0 col3\" >0.808446</td>\n",
       "    </tr>\n",
       "    <tr>\n",
       "      <th id=\"T_d6633_level0_row1\" class=\"row_heading level0 row1\" >nltk</th>\n",
       "      <td id=\"T_d6633_row1_col0\" class=\"data row1 col0\" >0.290062</td>\n",
       "      <td id=\"T_d6633_row1_col1\" class=\"data row1 col1\" >0.819645</td>\n",
       "      <td id=\"T_d6633_row1_col2\" class=\"data row1 col2\" >0.668145</td>\n",
       "      <td id=\"T_d6633_row1_col3\" class=\"data row1 col3\" >0.733752</td>\n",
       "    </tr>\n",
       "    <tr>\n",
       "      <th id=\"T_d6633_level0_row2\" class=\"row_heading level0 row2\" >spacy</th>\n",
       "      <td id=\"T_d6633_row2_col0\" class=\"data row2 col0\" >2.477866</td>\n",
       "      <td id=\"T_d6633_row2_col1\" class=\"data row2 col1\" >0.830381</td>\n",
       "      <td id=\"T_d6633_row2_col2\" class=\"data row2 col2\" >0.705240</td>\n",
       "      <td id=\"T_d6633_row2_col3\" class=\"data row2 col3\" >0.761185</td>\n",
       "    </tr>\n",
       "    <tr>\n",
       "      <th id=\"T_d6633_level0_row3\" class=\"row_heading level0 row3\" >custom_spacy</th>\n",
       "      <td id=\"T_d6633_row3_col0\" class=\"data row3 col0\" >15.484470</td>\n",
       "      <td id=\"T_d6633_row3_col1\" class=\"data row3 col1\" >0.896021</td>\n",
       "      <td id=\"T_d6633_row3_col2\" class=\"data row3 col2\" >0.825888</td>\n",
       "      <td id=\"T_d6633_row3_col3\" class=\"data row3 col3\" >0.857936</td>\n",
       "    </tr>\n",
       "    <tr>\n",
       "      <th id=\"T_d6633_level0_row4\" class=\"row_heading level0 row4\" >naive</th>\n",
       "      <td id=\"T_d6633_row4_col0\" class=\"data row4 col0\" >0.468673</td>\n",
       "      <td id=\"T_d6633_row4_col1\" class=\"data row4 col1\" >0.271217</td>\n",
       "      <td id=\"T_d6633_row4_col2\" class=\"data row4 col2\" >0.138127</td>\n",
       "      <td id=\"T_d6633_row4_col3\" class=\"data row4 col3\" >0.180767</td>\n",
       "    </tr>\n",
       "  </tbody>\n",
       "</table>\n"
      ],
      "text/plain": [
       "<pandas.io.formats.style.Styler at 0x7fde63e42d10>"
      ]
     },
     "execution_count": 12,
     "metadata": {},
     "output_type": "execute_result"
    }
   ],
   "source": [
    "little_df = pd.DataFrame(res_eval,columns=[\"execution_time\",\"precision\", \"recall\", \"F1_score\"], index=[\"ersatz\", \"nltk\", \"spacy\", \"custom_spacy\", \"naive\"])\n",
    "little_df.style.highlight_max(color = 'green', axis = 0).highlight_max(color = 'red', axis = 0, subset = [\"execution_time\"]).highlight_min(color = 'red', axis = 0).highlight_min(color = 'green', axis = 0, subset = [\"execution_time\"])"
   ]
  }
 ],
 "metadata": {
  "kernelspec": {
   "display_name": "Python 3",
   "language": "python",
   "name": "python3"
  },
  "language_info": {
   "codemirror_mode": {
    "name": "ipython",
    "version": 3
   },
   "file_extension": ".py",
   "mimetype": "text/x-python",
   "name": "python",
   "nbconvert_exporter": "python",
   "pygments_lexer": "ipython3",
   "version": "3.10.12"
  }
 },
 "nbformat": 4,
 "nbformat_minor": 2
}
